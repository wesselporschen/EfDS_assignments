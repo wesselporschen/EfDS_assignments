{
 "cells": [
  {
   "cell_type": "markdown",
   "metadata": {},
   "source": [
    "# Assignment A"
   ]
  },
  {
   "attachments": {},
   "cell_type": "markdown",
   "metadata": {},
   "source": [
    "### Nested loops with print (3p)"
   ]
  },
  {
   "attachments": {},
   "cell_type": "markdown",
   "metadata": {},
   "source": [
    "Build a function `printLines(num, rowFreq, colFreq)` printing a pattern as shown below:\n",
    "- `num` specifies the number of rows and columns with dots/stars\n",
    "- the top left corner should contain a star\n",
    "- every `rowFreq` rows there should be a row of stars\n",
    "- every `colFreq` columns there should be a column of stars\n",
    "- other places within `num`*`num` square should be filled with dots\n",
    "\n",
    "Here is an example of `printLines(18, rowFreq=5, colFreq=8)`:\n",
    "```\n",
    "******************\n",
    "*.......*.......*.\n",
    "*.......*.......*.\n",
    "*.......*.......*.\n",
    "*.......*.......*.\n",
    "******************\n",
    "*.......*.......*.\n",
    "*.......*.......*.\n",
    "*.......*.......*.\n",
    "*.......*.......*.\n",
    "******************\n",
    "*.......*.......*.\n",
    "*.......*.......*.\n",
    "*.......*.......*.\n",
    "*.......*.......*.\n",
    "******************\n",
    "*.......*.......*.\n",
    "*.......*.......*.\n",
    "```"
   ]
  },
  {
   "cell_type": "code",
   "execution_count": null,
   "metadata": {
    "tags": [
     "solution_nlwp"
    ]
   },
   "outputs": [],
   "source": [
    "# ----- SOLUTION START -----\n",
    "\n",
    "def printLines(num, rowFreq, colFreq):\n",
    "    \"\"\"Prints num x num grid in ASCII \".\", where rows/grids specified by rowFreq/colFreq are printed \"*\".\"\"\"\n",
    "    \n",
    "    for r in range(num):\n",
    "        print(\"\")\n",
    "        for c in range(num):\n",
    "            if r % rowFreq == 0:\n",
    "                print(\"*\", end=\"\")\n",
    "            elif c % colFreq == 0:\n",
    "                print(\"*\", end=\"\")\n",
    "            else:\n",
    "                print(\".\", end=\"\")\n",
    "\n",
    "# ----- SOLUTION END -----\n",
    "\n",
    "printLines(18, rowFreq=5, colFreq=8)"
   ]
  },
  {
   "attachments": {},
   "cell_type": "markdown",
   "metadata": {},
   "source": [
    "### Generating random user names (10p)"
   ]
  },
  {
   "attachments": {},
   "cell_type": "markdown",
   "metadata": {},
   "source": [
    "Write a function generating random full names of people, mixing provided first names and last names:\n",
    "- The name and the arguments of the function should be `genRandomNames( num, firstNamesStr, lastNamesStr )`:\n",
    "    - `num`: An integer number giving the number of full names to generate.\n",
    "    - `firstNamesStr`: A single `str` text with common first names to be chosen from. The first names in the string are separated by spaces. See the example below.\n",
    "    - `lastNamesStr` - As above: a string with last names separated by spaces.\n",
    "- The function should return a list with `num` elements. Each element should be a tuple (first,last) representing a full name.\n",
    "- Duplicates are not allowed (in the returned list there can be no two tuples representing an identical full name, but there can be two names with the same first name). If `num` is too large (i.e. so many pairs cannot be constructed from the provided first and last names) the function should raise an exception.\n",
    "- The returned list should be randomly chosen and ordered. In general, subsequent calls to the function should generate different results.\n",
    "- (optional) Aim for a solution which does not generate all possible (first, last) name combinations.\n",
    "\n",
    "*Hint:* `from random import sample`  \n",
    "*Hint:* `str.split`  \n",
    "*Hint:* E.g. 6:37AM is 6 hours and 37 minutes after midnight but also 397 minutes after midnight. Integer/rest division."
   ]
  },
  {
   "cell_type": "code",
   "execution_count": null,
   "metadata": {
    "tags": [
     "solution_grun"
    ]
   },
   "outputs": [],
   "source": [
    "# ----- SOLUTION START -----\n",
    "\n",
    "from random import sample\n",
    "\n",
    "def genRandomNames(num, firstNamesStr, lastNamesStr):\n",
    "    \"\"\"Returns list of length num containing full name tuples randomly generated from first + last name-strings.\n",
    "    First names can occur multiple times. Last names are unique.\"\"\"\n",
    "    \n",
    "    if num > len(lastNamesStr.split()):\n",
    "        raise RuntimeError(\"Total number of name requests exceeds number of possible unique last names.\")\n",
    "    \n",
    "    # Splits name-strings in lists for iterations; creation of empty newNames list to store results\n",
    "    firstNamesList = firstNamesStr.split()\n",
    "    lastNamesList = lastNamesStr.split()\n",
    "    newNames = [] \n",
    "\n",
    "    # Samples first and last names num times, stores consructed full name as tuple in newNames-list.\n",
    "    for i in range(num): \n",
    "        first = sample(firstNamesList, 1)[0]\n",
    "        last = sample(lastNamesList, 1)[0]\n",
    "        lastNameslist = lastNamesList.remove(last)\n",
    "        newName = tuple((first, last))\n",
    "        newNames.append(newName)\n",
    "\n",
    "    newNamesAlphabet = sorted(newNames, key = lambda x: x[1] )\n",
    "    return newNamesAlphabet\n",
    "\n",
    "# ----- SOLUTION END -----\n",
    "\n",
    "firstNamesStr = \"Meintje Franka Meindert Grant Wanda Bishop Susanna Josephus Grzegorz Ursula Augusta Roseann Jade Kyla Kylie Konstanty Lyda Aric Mona Coenraad Kirrily Noah Estera Ward Zygfryd Dagmara\"\n",
    "lastNamesStr = \"Jansen Bakker Visser Smit Bos Dekker Dijkstra Nowak Wójcik Mazur Lewandowski Dąbrowski Brzęczyszczykiewicz Żółciński Meyer Schmidt Müller Becker Hoffmann Rodrigues Sousa Alves Vieira Cruz\"\n",
    "#genRandomNames( 5, firstNamesStr, lastNamesStr ) # example of an expected result:\n",
    "                                                  # [('Kirrily', 'Cruz'),\n",
    "                                                  #  ('Zygfryd', 'Alves'),\n",
    "                                                  #  ('Estera', 'Bakker'),\n",
    "                                                  #  ('Lyda', 'Cruz'),\n",
    "                                                  #  ('Grzegorz', 'Mazur')]\n",
    "\n",
    "\n",
    "genRandomNames(10, firstNamesStr, lastNamesStr)"
   ]
  },
  {
   "attachments": {},
   "cell_type": "markdown",
   "metadata": {},
   "source": [
    "### Sorting by a user-defined function (6p)"
   ]
  },
  {
   "attachments": {},
   "cell_type": "markdown",
   "metadata": {},
   "source": [
    "Write a function `sortByDist( ps )`:\n",
    "- The argument `ps` is a list of two-element tuples with (x,y) coordinates of points on a two dimensional plane.  \n",
    "- The list `ps` should become sorted with increasing distance to the origin.  \n",
    "- The function should return nothing.\n",
    "- The function should have a *docstring* with a short description of what it does.\n",
    "\n",
    "*Hint:* understand all arguments of the `list.sort(...)` method."
   ]
  },
  {
   "cell_type": "code",
   "execution_count": null,
   "metadata": {
    "tags": [
     "solution_sudf"
    ]
   },
   "outputs": [],
   "source": [
    "# ----- SOLUTION START -----\n",
    "\n",
    "def sortByDist(ps):\n",
    "    \"\"\"Sorts list of (x,y)-coordinate tuples based on their distance to origin using Pythagorean formula\"\"\"\n",
    "    \n",
    "    def pythagoras(pair):\n",
    "        return (pair[0]**2 + pair[1]**2)\n",
    "    \n",
    "    ps.sort(key = pythagoras)\n",
    "    \n",
    "# ----- SOLUTION END -----\n",
    "\n",
    "examplePs = [ (1,-1), (2,0), (3,1), (-4,-1), (0,2), (0,0) ]\n",
    "sortByDist( examplePs )     # expected:\n",
    "examplePs                     # [(0, 0), (1, -1), (2, 0), (0, 2), (3, 1), (-4, -1)]"
   ]
  },
  {
   "attachments": {},
   "cell_type": "markdown",
   "metadata": {},
   "source": [
    "### A graph and degrees of vertices (6p)"
   ]
  },
  {
   "attachments": {},
   "cell_type": "markdown",
   "metadata": {},
   "source": [
    "The Wikipedia page [Graph (discrete mathematics)](https://en.wikipedia.org/wiki/Graph_(discrete_mathematics)) provides an example illustration of *a (undirected) graph with six vertices and seven edges*.  \n",
    "The *degree* of a vertex is a number of edges connected to the vertex (a vertex with a loop, i.e. with an edge to itself, contributes with 2 edges).\n",
    "\n",
    "Create two objects to represent the Wikipedia graph:\n",
    "- `vs` should be a `set` of vertices (i.e. identifiers of the vertices: `1`, `2`, `...`);\n",
    "- `es` should be a `set` of edges (two-element tuples with names of connected vertices).\n",
    "\n",
    "Modify manually `vs` and `es` as follows:\n",
    "- add a vertex `10` which has an edge to itself;\n",
    "- add a vertex `20` without any edges.\n",
    "\n",
    "Finally, write a function `verticesDegrees( vs, es )` to calculate degrees of all vertices in the graph.  \n",
    "The function should return a dictionary mapping vertex identifiers to their degrees.  \n",
    "\n",
    "*Note:* `vs` should be a `set` because each vertex must have a unique identifier.  \n",
    "*Note:* `es` should be a `set` because in undirected graph there can be only one edge between two vertices. This is still not enough to avoid duplicated edges - consider tuples `(3,4)` vs. `(4,3)`."
   ]
  },
  {
   "cell_type": "code",
   "execution_count": null,
   "metadata": {
    "tags": [
     "solution_gdv"
    ]
   },
   "outputs": [],
   "source": [
    "# ----- SOLUTION START -----\n",
    "\n",
    "vs = {1, 2, 3, 4, 5, 6, 10, 20}\n",
    "es = {(1,2), (1,5), (2,5), (2,3), (3,4), (4,5), (4,6), (10,10), (2,1)}\n",
    "\n",
    "def verticesDegrees(vs, es):\n",
    "    \"\"\"Returns dictionary of vertices in vs and their degrees as described in es\"\"\"\n",
    "\n",
    "    # Filters es by dealing with \"double pairs\" (e.g. removes (b,a) if (a,b) is already present)\n",
    "    esFiltered = set([tuple(sorted(edge)) for edge in es])\n",
    "\n",
    "    # For each vertex, calculate its degree and store in degreesMap\n",
    "    degreesMap = {}\n",
    "    for vertex in vs:\n",
    "        degreeCounter = 0\n",
    "        for pair in esFiltered:\n",
    "            if vertex == pair[0]:\n",
    "                degreeCounter += 1\n",
    "            if vertex == pair[1]:\n",
    "                degreeCounter +=1\n",
    "        degreesMap.update({vertex: degreeCounter})\n",
    "    return degreesMap\n",
    "\n",
    "# ----- SOLUTION END -----\n",
    "\n",
    "verticesDegrees( vs, es ) \n",
    "   # expected dictionary for the manually modified graph:\n",
    "                               # {1: 2, 2: 3, 3: 2, 4: 3, 5: 3, 6: 1, 10: 2, 20: 0}"
   ]
  },
  {
   "attachments": {},
   "cell_type": "markdown",
   "metadata": {},
   "source": [
    "### Drawing a graph with graphviz dot online tool (3p)"
   ]
  },
  {
   "attachments": {},
   "cell_type": "markdown",
   "metadata": {},
   "source": [
    "[Graphviz](https://graphviz.org/about/) is a software package for automatic drawing of graphs.  \n",
    "It defines the [DOT Language](https://graphviz.org/doc/info/lang.html) which allows to describe a graph to be drawn.  \n",
    "The graph from the previous task can be described in DOT as in the example below:\n",
    "\n",
    "- Single numbers define the vertices of the graph.\n",
    "- Two minus signs (`--`) define an edge.\n",
    "\n",
    "The Graphviz online tool (https://dreampuf.github.io/GraphvizOnline/) may be used to check whether you generated a correct DOT code.  \n",
    "[See the example in the online tool](https://dreampuf.github.io/GraphvizOnline/#graph%20%7B%0A%20%201%0A%20%202%0A%20%203%0A%20%204%0A%20%205%0A%20%206%0A%20%2010%0A%20%2020%0A%20%201%20--%202%0A%20%201%20--%205%0A%20%202%20--%203%0A%20%202%20--%205%0A%20%203%20--%204%0A%20%204%20--%205%0A%20%204%20--%206%0A%20%2010%20--%2010%0A%7D).\n",
    "\n",
    "Write a function `graphvizDotPrint( vs, es )` with the arguments as in the previous task.  \n",
    "The function should print the DOT language description of any graph provided by the `vs` and `es` arguments.  \n",
    "For the Wikipedia page example graph, its description in the DOT language could be:\n",
    "\n",
    "```{dot}\n",
    "graph {\n",
    "  1\n",
    "  2\n",
    "  3\n",
    "  4\n",
    "  5\n",
    "  6\n",
    "  10\n",
    "  20\n",
    "  1 -- 2\n",
    "  1 -- 5\n",
    "  2 -- 3\n",
    "  2 -- 5\n",
    "  3 -- 4\n",
    "  4 -- 5\n",
    "  4 -- 6\n",
    "  10 -- 10\n",
    "}\n",
    "```"
   ]
  },
  {
   "cell_type": "code",
   "execution_count": null,
   "metadata": {
    "tags": [
     "solution_dot"
    ]
   },
   "outputs": [],
   "source": [
    "# ----- SOLUTION START -----\n",
    "\n",
    "vs = {1, 2, 3, 4, 5, 6, 10, 20}\n",
    "es = {(1,2), (1,5), (2,5), (2,3), (3,4), (4,5), (4,6), (10,10), (2,1)}\n",
    "\n",
    "def graphvizDotPrint(vs, es):\n",
    "    \"\"\"Prints description of graph (vertices in vs, edges in es) in DOT language.\"\"\"\n",
    "\n",
    "    # Filters es by dealing with \"double pairs\" (e.g. removes (b,a) if (a,b) is already present)\n",
    "    esFiltered = set([tuple(sorted(edge)) for edge in es])\n",
    "    esFiltered = sorted(esFiltered, key = lambda x: x[0])\n",
    "    \n",
    "    #prints graph in DOT language\n",
    "    print(\"graph {\")\n",
    "    for vertex in vs:\n",
    "        print(f\"  {vertex}\")\n",
    "    for edge in esFiltered:\n",
    "        print(f\"  {edge[0]} -- {edge[1]}\")\n",
    "    print(\"}\")\n",
    "\n",
    "# ----- SOLUTION END -----\n",
    "\n",
    "graphvizDotPrint( vs, es )  # this should print a piece of DOT code\n"
   ]
  }
 ],
 "metadata": {
  "kernelspec": {
   "display_name": "jupyter",
   "language": "python",
   "name": "python3"
  },
  "language_info": {
   "codemirror_mode": {
    "name": "ipython",
    "version": 3
   },
   "file_extension": ".py",
   "mimetype": "text/x-python",
   "name": "python",
   "nbconvert_exporter": "python",
   "pygments_lexer": "ipython3",
   "version": "3.12.1"
  },
  "orig_nbformat": 4,
  "vscode": {
   "interpreter": {
    "hash": "0fadeaac72bf3c14f9665939c662a31c8aa4e36681a8cd408ae34884627e6cff"
   }
  }
 },
 "nbformat": 4,
 "nbformat_minor": 2
}
