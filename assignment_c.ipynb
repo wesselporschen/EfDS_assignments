{
 "cells": [
  {
   "cell_type": "markdown",
   "metadata": {
    "collapsed": false
   },
   "source": [
    "\n",
    "## Introduction\n",
    "\n",
    "The aim of this assignment is to give you the experience of using real public data and create your own report. The raw data are available in different formats and structures and often contain undesired formatting errors. Statistical data are continuously updated and may even provide API's to stream data instead of taking snapshots. We will be using snapshots in this assignment but to streamline the analysis around possible future snapshots you'll be implementing a 'data-specific' Python class with appropriate methods for data manipulation and visualisation.\n",
    "\n",
    "**Note:** please direct your questions on this assignment to **r.monajemi@lumc.nl**\n",
    "\n",
    "## Data: Emissions to air by the Dutch economy\n",
    "\n",
    "In this assignment we will be using *Emissions to air by the Dutch economy* [CBS StatLine](https://opendata.cbs.nl/portal.html?_la=en&_catalog=CBS&tableId=83300ENG&_theme=1129) dataset. There you'll find the latest release of the dataset, however and older version will be provided via brightspace. Note that the results that shown below are produced using the old datasets: the metadata (`83300ENG_metadata.csv`) and the raw data (`83300ENG_UntypedDataSet_29032023_184145.csv`). \n",
    "\n",
    "\n"
   ]
  },
  {
   "cell_type": "markdown",
   "metadata": {
    "collapsed": false
   },
   "source": [
    "## Assignment\n",
    "\n",
    "#### 1) Class GWP [4p].\n",
    "\n",
    "- Create the class `GWP` (Global Warming Potential) which is initialised with raw data along with the meta information.\n",
    "- Create class attributes [emissions](emissions.md) and [emission_sources](emission_sources.md) from the metadata.\n",
    "- Additional attributes:\n",
    "    - `Date` :  of type timestamp created from the variable `Periods`\n",
    "    - `Source` : holding the `Title` values of the emission source in the metadata."
   ]
  },
  {
   "cell_type": "code",
   "execution_count": null,
   "metadata": {},
   "outputs": [],
   "source": [
    "import numpy as np\n",
    "import pandas as pd\n",
    "import seaborn as sns\n",
    "import matplotlib.pyplot as plt"
   ]
  },
  {
   "cell_type": "code",
   "execution_count": null,
   "metadata": {
    "collapsed": false
   },
   "outputs": [],
   "source": [
    "class GWP:\n",
    "    \"\"\"\n",
    "    A class to interact with \"Emissions to air by the Dutch Economy\" CBS StatLine-dataset.\n",
    "\n",
    "    Attributes\n",
    "    ----------\n",
    "    path : string\n",
    "        file path directing to data .csv-file\n",
    "\n",
    "    meta_path : string\n",
    "        file path directing to metadata .csv-file\n",
    "\n",
    "    data : pd.dataframe\n",
    "        data table containing emissions of different types for economic sectors\n",
    "\n",
    "    emission : pd.dataframe\n",
    "        descriptions of emission types\n",
    "\n",
    "    emission_sources : pd.dataframe\n",
    "        descriptions of emitting economic sectors\n",
    "\n",
    "    Methods\n",
    "    -------\n",
    "    emissionsGen():\n",
    "        Generates emission table.\n",
    "\n",
    "    emissionSrcGen():\n",
    "        Generates emission_sources table.\n",
    "\n",
    "    dateGen():\n",
    "        Converts \"Periods\" in self.data to pandas Timestamp.\n",
    "\n",
    "    convertToGreenhouseEq():\n",
    "        Converts N20 and CH4 emissions to CO2-equivalents. Adds HFC as emission.\n",
    "\n",
    "    plot(emission, source):\n",
    "        Method to plot data by emission type and source.\n",
    "\n",
    "    get_emission(category):\n",
    "        Returns list containing emission types for given emission category.\n",
    "    \n",
    "    summary(date):\n",
    "        Provides 1) general information about dataset or 2) emission summary stats for specified period.\n",
    "    \n",
    "    topEmitters(emission, userYear):\n",
    "        Provides plot listing top 20 emitting sectors for given greenhouse gas in given year.\n",
    "\n",
    "    \"\"\"\n",
    "    def __init__(self, path, meta_path):\n",
    "        self.path = path\n",
    "        self.meta_path = meta_path\n",
    "        self.data = pd.read_csv(path, sep=\";\")\n",
    "\n",
    "        self.emissionsGen()\n",
    "        self.emissionSrcGen()\n",
    "        self.dateGen()\n",
    "        # self.convertToGreenhouseEq()\n",
    "\n",
    "    def emissionsGen(self):\n",
    "        \"\"\"\n",
    "        Generates emission table.\n",
    "        \"\"\"\n",
    "        df = pd.read_csv(self.meta_path, sep=\";\", skiprows=4)\n",
    "        df = df[df['Type'] == 'Topic']\n",
    "        df.set_index([\"Key\"], inplace = True, drop = True)\n",
    "        df = df[['Title', 'Description', 'Unit']]\n",
    "        self.emission = df\n",
    "\n",
    "  \n",
    "    def emissionSrcGen(self):\n",
    "        \"\"\"\n",
    "        Generates emission_sources table.\n",
    "        \"\"\"\n",
    "        # \"There may exist more sophisticated solutions to fetch arbitrary number of DataFrames from an untidy DataFrame.\"\n",
    "        df = pd.read_csv(self.meta_path, sep=\";\", skiprows=27, nrows=59)\n",
    "        df = df.rename(columns={\"Key\":\"DutchEconomy\"})\n",
    "\n",
    "        self.source = df[['Title', 'DutchEconomy']] \n",
    "        self.source = self.source.rename(columns={\"Title\":\"Source\"})\n",
    "        self.data = self.data.merge(self.source) \n",
    "\n",
    "        df.set_index([\"DutchEconomy\"], inplace = True, drop = True)\n",
    "        self.emission_sources = df\n",
    "\n",
    "    def dateGen(self):\n",
    "        \"\"\"\n",
    "        Converts \"Periods\" in self.data to pandas Timestamp.\n",
    "        \"\"\"\n",
    "        def periodToTimestamp(periodstring):\n",
    "            return pd.Timestamp(int(periodstring[0:4]), 1, 1, 12)\n",
    "        \n",
    "        df = self.data\n",
    "        df[\"Date\"] = df[\"Periods\"].apply(periodToTimestamp)\n",
    "\n",
    "\n",
    "    def convertToGreenhouseEq(self):\n",
    "        \"\"\"\n",
    "        Converts N20 and CH4 emissions to CO2-equivalents. Adds HFC as emission.\n",
    "        \"\"\"\n",
    "        if 'N2O_4_IN_CO2_EQ' in self.data: # check if conversions already performed\n",
    "            print(\"Emissions already converted to greenhouse gas equivalent.\")\n",
    "        else:\n",
    "            self.data['N2O_4'] = self.data['N2O_4'] * 298\n",
    "            self.data['CH4_5'] = self.data['CH4_5'] * 25\n",
    "            self.data = self.data.rename(columns={'N2O_4': 'N2O_4_IN_CO2_EQ', 'CH4_5': 'CH4_5_IN_CO2_EQ'})\n",
    "\n",
    "            self.data['HFC'] = self.data['GreenhouseGasEquivalents_6'] - (self.data['TotalCO2_1'] + self.data['N2O_4_IN_CO2_EQ'] + self.data['CH4_5_IN_CO2_EQ'])\n",
    "\n",
    "    def plot(self, emission, source):\n",
    "        \"\"\"\n",
    "        Method to plot data by emission type and source.\n",
    "        \n",
    "        Parameters\n",
    "        ----------\n",
    "        emission : list of strings\n",
    "            contains variable names (e.g. \"MVOC_13\") to be plotted\n",
    "        source : list of strings\n",
    "            contains strings which pattern match emission_sources and retrieve desired sectors\n",
    "        \n",
    "        Returns\n",
    "        -------\n",
    "        seaborn plot\n",
    "        \"\"\"\n",
    "        def check_pattern(row): # function to select Sources based on (partial) string match\n",
    "            return any(row.astype(str).str.contains(pattern, case=False).any() for pattern in source)\n",
    "\n",
    "        df = self.emission_sources.reset_index()\n",
    "        df = df[df.apply(check_pattern, axis=1)]\n",
    "        \n",
    "        filteredData = self.data[self.data['Source'].isin(df['Title'])]\n",
    "        filteredData = pd.melt(filteredData, id_vars=['Date', 'Source'], value_vars=emission, var_name=\"Emission\")\n",
    "\n",
    "        sns.set_style(\"darkgrid\")\n",
    "        ax = sns.lineplot(data=filteredData, x=\"Date\", y=\"value\", hue=\"Source\", style=\"Emission\")\n",
    "        ax.set(ylabel='Emission (MCM)')\n",
    "        ax.legend(loc='center left', bbox_to_anchor=(1, 0.5), facecolor=\"white\")\n",
    "\n",
    "        plt.show(ax)\n",
    "\n",
    "    def get_emission(self, category):\n",
    "        \"\"\"\n",
    "        Returns list containing emission types for given emission category.\n",
    "        \n",
    "        Parameters\n",
    "        ----------\n",
    "        category : {\"ghg\", \"acid\", \"ozone\", \"air\"}\n",
    "    \n",
    "        Returns\n",
    "        -------\n",
    "            list of emission type variable names of given category\n",
    "        \"\"\"\n",
    "        if category == \"ghg\":\n",
    "            return list(self.data.columns[3:9])\n",
    "        elif category == \"acid\":\n",
    "            return list(self.data.columns[10:13])\n",
    "        elif category == \"ozone\":\n",
    "            return list(self.data.columns[[13]])\n",
    "        elif category == \"air\":\n",
    "            ugly = list(self.data.columns[14:18])\n",
    "            ugly.append(list(self.data.columns[[-1]])[0])\n",
    "            return ugly\n",
    "        else:\n",
    "            raise RuntimeError('Emission category must be \\'ghg\\', \\'acid\\', \\'ozone\\', or \\'air\\'.')\n",
    "        \n",
    "    def summary(self,date=None):\n",
    "        \"\"\"\n",
    "        Provides 1) general information about dataset or 2) emission summary stats for specified period.\n",
    "\n",
    "        Parameters\n",
    "        ----------\n",
    "        date : 1- or 2-element tuple of years (e.g. (1999,2008) )\n",
    "\n",
    "        Returns\n",
    "        -------\n",
    "            1) general information about dataset (if no date is given)\n",
    "            2) emission summary stats for given yearly period, as pd.dataframe\n",
    "        \"\"\"\n",
    "        if date:    # if date is given: return summary stats for period\n",
    "            if isinstance(date, int):\n",
    "               date = tuple([date])\n",
    "            dataInRange = self.data.copy()\n",
    "            dataInRange = dataInRange[(dataInRange.Date.dt.year >= date[0]) & (dataInRange.Date.dt.year <= date[-1])]\n",
    "            dataInRange = dataInRange.select_dtypes(include=[\"number\"]).drop('ID', axis=1)\n",
    "            \n",
    "            summaries = pd.DataFrame()\n",
    "            summaries[\"Min\"] = dataInRange.min()\n",
    "            summaries[\"1st Quantile\"] = dataInRange.quantile(0.25)\n",
    "            summaries[\"Median\"] = dataInRange.median()\n",
    "            summaries[\"Mean\"] = dataInRange.mean()\n",
    "            summaries[\"3rd Quantile\"] = dataInRange.quantile(0.75)\n",
    "            summaries[\"Max\"] = dataInRange.max()\n",
    "            print(f\"Summary Stats for period {date[0]}-{date[-1]}:\")\n",
    "            return(summaries)\n",
    "        else:   # if no date: print general summary of dataset\n",
    "            print(\"General information:\\n\")\n",
    "            print(\"--- FILEPATHS ---\")\n",
    "            print(f\"Data path: \\t\\t\\t {self.path}\")\n",
    "            print(f\"Metadata path: \\t\\t\\t {self.meta_path} \\n\")\n",
    "            print(\"--- DATA INFO---\")\n",
    "            print(f\"Shape of df: \\t\\t\\t {self.data.shape[0]} rows, {self.data.shape[1]} cols.\")\n",
    "            print(f\"Number of emission sources: \\t {len(self.emission_sources)}\")\n",
    "            print(f\"Number of emission variables: \\t {len(self.emission)}\")\n",
    "            print(f\"Data from: \\t\\t\\t {str(gwp.data[[\"Date\"]].sort_values(by=\"Date\").iloc[0].item())[0:10]}\")\n",
    "            print(f\"To: \\t\\t\\t\\t {str(gwp.data[[\"Date\"]].sort_values(by=\"Date\").iloc[-1].item())[0:10]}\")\n",
    "\n",
    "    def topEmitters(self, emission=0, userYear=0):\n",
    "        \"\"\"\n",
    "        Provides plot listing top 20 emitting sectors for given greenhouse gas in given year.\n",
    "\n",
    "        Parameters\n",
    "        ----------\n",
    "        userYear : int\n",
    "        emission : emission variable (e.g. \"MVOC_13\") to be plotted (str)\n",
    "\n",
    "        Returns\n",
    "        -------\n",
    "        seaborn plot\n",
    "        \"\"\"\n",
    "        df = self.data.copy()\n",
    "        df = df[df.Date.dt.year == userYear]\n",
    "        df = df[~df['DutchEconomy'].isin(['1050010', 'B000579', 'B000580', 'B000581', 'T001081'])]\n",
    "        df = df[[\"DutchEconomy\", emission]].sort_values(by=emission, ascending=False)\n",
    "        df = df.reset_index(drop=True)\n",
    "        \n",
    "        df = pd.merge(self.emission_sources, df, left_index=True, right_on=\"DutchEconomy\", how=\"inner\").drop(['DutchEconomy', 'Description'], axis=1)\n",
    "        df = df.rename(columns={emission:gwp.emission.loc[emission][\"Title\"]})\n",
    "        df = df.sort_values(by=df.columns[1], ascending=False)\n",
    "        \n",
    "\n",
    "        som = df.iloc[20:, 1].sum()\n",
    "        df = df.iloc[:20]  \n",
    "        df.loc[len(df.index)] = [\"rest\", som]\n",
    "\n",
    "        ax = sns.barplot(data=df, x=df.iloc[:,1], y=\"Title\", orient=\"h\")\n",
    "        ax.set(title=f\"Top emitters of {df.columns[1]} in {userYear}.\")\n",
    "        ax.set(xlabel=f'{df.columns[1]} Emission (MCM)')\n",
    "        ax.set(ylabel=\"Sector\")\n",
    "        plt.show(ax)"
   ]
  },
  {
   "cell_type": "code",
   "execution_count": null,
   "metadata": {},
   "outputs": [],
   "source": [
    "gwp = GWP(path=\"data/83300ENG_UntypedDataSet_29032023_184145.csv\", meta_path='data/83300ENG_metadata.csv')"
   ]
  },
  {
   "cell_type": "code",
   "execution_count": null,
   "metadata": {},
   "outputs": [],
   "source": [
    "gwp.data.head()"
   ]
  },
  {
   "cell_type": "code",
   "execution_count": null,
   "metadata": {},
   "outputs": [],
   "source": [
    "# gwp = GWP(path=\"data/83300ENG_UntypedDataSet_29032023_184145.csv\", meta_path='data/83300ENG_metadata.csv')"
   ]
  },
  {
   "cell_type": "code",
   "execution_count": null,
   "metadata": {},
   "outputs": [],
   "source": [
    "gwp.emission.head(10)"
   ]
  },
  {
   "cell_type": "code",
   "execution_count": null,
   "metadata": {},
   "outputs": [],
   "source": [
    "gwp.emission_sources.head()"
   ]
  },
  {
   "cell_type": "code",
   "execution_count": null,
   "metadata": {},
   "outputs": [],
   "source": [
    "gwp.data.dtypes"
   ]
  },
  {
   "cell_type": "markdown",
   "metadata": {
    "collapsed": false
   },
   "source": [
    "#### 2) Greenhouse equivalents [1p].\n",
    "\n",
    "The [greenhouse equivalents](https://www.cbs.nl/en-gb/news/2020/19/uitstoot-broeikasgassen-3-procent-lager-in-2019/co2-equivalents) is a measure to relate othe other gases to CO2.\n",
    "\n",
    "- Convert `N2O_4` and `CH4_5` in `GWP.data` to CO2 equivalents.\n",
    "- Add a new variable `HFC` to the GWP.data which contains the fluorine (chlorine) gases CO2 equivalents. HFC stands for hydrofluorocarbons (see [Fluorinated gases](https://en.wikipedia.org/wiki/Fluorinated_gases)). The emission has been added to the total greenhouse gas equivalent but not specified as separate variable. See also *greenhouse gas equivalents* description in the metadata."
   ]
  },
  {
   "cell_type": "code",
   "execution_count": null,
   "metadata": {},
   "outputs": [],
   "source": [
    "gwp.convertToGreenhouseEq() # does N20 and CH4 conversions + adds HFC variable\n",
    "gwp.data.head()\n"
   ]
  },
  {
   "cell_type": "markdown",
   "metadata": {
    "collapsed": false
   },
   "source": [
    "#### 3) Implement a plot method that produces the figure below. [3p]\n",
    "\n",
    "**Synopsis:** &nbsp; &nbsp;**<tt>GWP.plot(emission, source)</tt>**\n",
    "\n",
    "    - emission: is a list of emissions to be drawn\n",
    "    - source: list of Dutch economy sector id's or a pattern"
   ]
  },
  {
   "cell_type": "code",
   "execution_count": null,
   "metadata": {
    "collapsed": false
   },
   "outputs": [],
   "source": [
    "gwp.plot(emission=['CO_12', 'NMVOC_13'],source=['education', 'government','320000' ])"
   ]
  },
  {
   "cell_type": "markdown",
   "metadata": {
    "collapsed": false
   },
   "source": [
    "\n",
    "#### 4) Emission categories [1p]\n",
    "\n",
    "There are 4 categories of emissions:\n",
    "   - Greenhouse gases (climate change) {TotalCO2_1, CO2ExclBiomass_2, CO2Biomass_3, N2O_4, CH4_5, GreenhouseGasEquivalents_6}\n",
    "   - Acidification {NOx_7, SO2_8, NH3_9, AcidificationEquivalents_10}\n",
    "   - Ozone layer depletion {CFK12Equivalents_11}\n",
    "   - Other air pollution {CO_12, NMVOC_13, PM10_14, HFC}\n",
    "\n",
    "Implement the method `get_emission` with the following specification:\n",
    "\n",
    "**Synopsis:** &nbsp; &nbsp;**<tt>GWP.get_emission(emission_category)</tt>**\n",
    "\n",
    "   - emission_category : {ghg, acid, ozone, air}\n",
    "   - return value : list of variable names of the given category.\n"
   ]
  },
  {
   "cell_type": "code",
   "execution_count": null,
   "metadata": {
    "collapsed": false
   },
   "outputs": [],
   "source": [
    "# gwp.get_emission('acid')\n",
    "gwp.plot(emission=gwp.get_emission('air'),source=['transport']);"
   ]
  },
  {
   "cell_type": "markdown",
   "metadata": {
    "collapsed": false
   },
   "source": [
    "#### 5) Summary [1p]\n",
    "\n",
    "Implement the `summary` method which gives `general information` about the data such as:\n",
    "- data and meta file paths\n",
    "- shape of the data\n",
    "- number of emission sources.\n",
    "- number of emission variables\n",
    "- first and latest date\n",
    "\n",
    "\n",
    "**Synopsis:** &nbsp; &nbsp;**<tt>GWP.summary(date)</tt>**\n",
    "   - `date`     : tuple of dates (min,[max]).\n",
    "\n",
    "If `date` is given then print a DataFrame of descriptive statistics with columns {min, 1st quartile, 2nd quartile, mean 3rd quartile, max} and emission as row indices. In this case do not output the `general information`. Note, for the `date` method argument, in case 'max' is omitted then the summary is given for a single year.\n"
   ]
  },
  {
   "cell_type": "code",
   "execution_count": null,
   "metadata": {},
   "outputs": [],
   "source": [
    "# general information\n",
    "gwp.summary()\n",
    "\n",
    "# summary statistics for 1 year\n",
    "gwp.summary((1999))\n",
    "\n",
    "# summary statistics for multiyear period\n",
    "gwp.summary((1999,2005))"
   ]
  },
  {
   "cell_type": "markdown",
   "metadata": {
    "collapsed": false
   },
   "source": [
    "#### 6) Bonus point\n",
    "\n",
    "Add a new plot method to the class which gives a different kind of information than the one given in GWP.plot."
   ]
  },
  {
   "cell_type": "code",
   "execution_count": null,
   "metadata": {},
   "outputs": [],
   "source": [
    "gwp.topEmitters.__doc__.split('\\n')"
   ]
  },
  {
   "cell_type": "code",
   "execution_count": null,
   "metadata": {},
   "outputs": [],
   "source": [
    "gwp.topEmitters(userYear = 2020, emission = \"NOx_7\")"
   ]
  }
 ],
 "metadata": {
  "kernelspec": {
   "display_name": "Python 3",
   "language": "python",
   "name": "python3"
  },
  "language_info": {
   "codemirror_mode": {
    "name": "ipython",
    "version": 3
   },
   "file_extension": ".py",
   "mimetype": "text/x-python",
   "name": "python",
   "nbconvert_exporter": "python",
   "pygments_lexer": "ipython3",
   "version": "3.12.1"
  }
 },
 "nbformat": 4,
 "nbformat_minor": 0
}
